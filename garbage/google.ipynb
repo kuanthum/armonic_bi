{
 "cells": [
  {
   "cell_type": "code",
   "execution_count": 93,
   "metadata": {},
   "outputs": [],
   "source": [
    "import json\n",
    "import requests\n",
    "import re\n",
    "import urllib\n",
    "from bs4 import BeautifulSoup\n",
    "\n",
    "\n",
    "song = input('Type the song:\\n')\n",
    "band = input('Type the band:\\n')\n",
    "url = \"https://www.google.co.uk/search?q=\"+song+band+\"chordify\"\n",
    "page = requests.get(url).text\n",
    "soup = BeautifulSoup(page, 'lxml');"
   ]
  },
  {
   "cell_type": "code",
   "execution_count": 116,
   "metadata": {},
   "outputs": [
    {
     "data": {
      "text/plain": [
       "<a href=\"/url?q=https://chordify.net/chords/radiohead-songs/creep-5-chords&amp;sa=U&amp;ved=2ahUKEwil3bubksv5AhUlBLkGHeylCOgQFnoECAMQAg&amp;usg=AOvVaw15o27-UvZ2CoUTPeODOwBZ\"><div class=\"DnJfK\"><div class=\"j039Wc\"><h3 class=\"zBAuLc l97dzf\"><div class=\"BNeawe vvjwJb AP7Wnd\">Radiohead - Creep Chords - Chordify</div></h3></div><div class=\"sCuL3\"><div class=\"BNeawe UPmit AP7Wnd lRVwie\">chordify.net › chords › radiohead-songs › creep-5-c...</div></div></div></a>"
      ]
     },
     "execution_count": 116,
     "metadata": {},
     "output_type": "execute_result"
    }
   ],
   "source": [
    "link = soup.find('a', href=re.compile('https://chordify.net'))\n",
    "link"
   ]
  },
  {
   "cell_type": "code",
   "execution_count": 125,
   "metadata": {},
   "outputs": [
    {
     "data": {
      "text/plain": [
       "'/url?q=https://chordify.net/chords/radiohead-songs/creep-5-chords&sa=U&ved=2ahUKEwil3bubksv5AhUlBLkGHeylCOgQFnoECAMQAg&usg=AOvVaw15o27-UvZ2CoUTPeODOwBZ'"
      ]
     },
     "execution_count": 125,
     "metadata": {},
     "output_type": "execute_result"
    }
   ],
   "source": [
    "link = link['href']\n",
    "link"
   ]
  },
  {
   "cell_type": "code",
   "execution_count": 148,
   "metadata": {},
   "outputs": [
    {
     "data": {
      "text/plain": [
       "'https://chordify.net/chords/radiohead-songs/creep-5-chords'"
      ]
     },
     "execution_count": 148,
     "metadata": {},
     "output_type": "execute_result"
    }
   ],
   "source": [
    "link\n",
    "url = re.search(\"https[^&]+\",link).group(0)\n",
    "url"
   ]
  }
 ],
 "metadata": {
  "kernelspec": {
   "display_name": "Python 3.10.2 64-bit",
   "language": "python",
   "name": "python3"
  },
  "language_info": {
   "codemirror_mode": {
    "name": "ipython",
    "version": 3
   },
   "file_extension": ".py",
   "mimetype": "text/x-python",
   "name": "python",
   "nbconvert_exporter": "python",
   "pygments_lexer": "ipython3",
   "version": "3.10.2"
  },
  "orig_nbformat": 4,
  "vscode": {
   "interpreter": {
    "hash": "e36d3b1cbb4fb2a95efce5a4bc49ab2e84ae5beb3185e07de881d586ab467705"
   }
  }
 },
 "nbformat": 4,
 "nbformat_minor": 2
}
