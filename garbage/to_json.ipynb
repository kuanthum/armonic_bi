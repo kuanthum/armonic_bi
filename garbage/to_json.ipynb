{
 "cells": [
  {
   "cell_type": "code",
   "execution_count": null,
   "metadata": {},
   "outputs": [],
   "source": [
    "import json\n",
    "\n",
    "my_bytes_value = b'[{\\'Date\\': \\'2016-05-21T21:35:40Z\\', \\'CreationDate\\': \\'2012-05-05\\', \\'LogoType\\': \\'png\\', \\'Ref\\': 164611595, \\'Classe\\': [\\'Email addresses\\', \\'Passwords\\'],\\'Link\\':\\'http://some_link.com\\'}]'\n",
    "\n",
    "# Decode UTF-8 bytes to Unicode, and convert single quotes \n",
    "# to double quotes to make it valid JSON\n",
    "my_json = my_bytes_value.decode('utf8').replace(\"'\", '\"')\n",
    "print(my_json)\n",
    "print('- ' * 20)\n",
    "\n",
    "# Load the JSON to a Python list & dump it back out as formatted JSON\n",
    "data = json.loads(my_json)\n",
    "s = json.dumps(data, indent=4, sort_keys=True)\n",
    "print(s)"
   ]
  },
  {
   "cell_type": "code",
   "execution_count": null,
   "metadata": {},
   "outputs": [],
   "source": []
  },
  {
   "cell_type": "code",
   "execution_count": null,
   "metadata": {},
   "outputs": [],
   "source": [
    "import json\n",
    "\n",
    "my_bytes_value = b'[{\\'Date\\': \\'2016-05-21T21:35:40Z\\', \\'CreationDate\\': \\'2012-05-05\\', \\'LogoType\\': \\'png\\', \\'Ref\\': 164611595, \\'Classe\\': [\\'Email addresses\\', \\'Passwords\\'],\\'Link\\':\\'http://some_link.com\\'}]'\n",
    "\n",
    "# Decode UTF-8 bytes to Unicode, and convert single quotes \n",
    "# to double quotes to make it valid JSON\n",
    "my_json = my_bytes_value.decode('utf8').replace(\"'\", '\"')\n",
    "print(my_json)\n",
    "print('- ' * 20)\n",
    "\n",
    "# Load the JSON to a Python list & dump it back out as formatted JSON\n",
    "data = json.loads(my_json)\n",
    "s = json.dumps(data, indent=4, sort_keys=True)\n",
    "print(s)"
   ]
  }
 ],
 "metadata": {
  "kernelspec": {
   "display_name": "Python 3.10.2 64-bit",
   "language": "python",
   "name": "python3"
  },
  "language_info": {
   "name": "python",
   "version": "3.10.2"
  },
  "orig_nbformat": 4,
  "vscode": {
   "interpreter": {
    "hash": "e36d3b1cbb4fb2a95efce5a4bc49ab2e84ae5beb3185e07de881d586ab467705"
   }
  }
 },
 "nbformat": 4,
 "nbformat_minor": 2
}
