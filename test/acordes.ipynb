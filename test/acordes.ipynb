{
 "cells": [
  {
   "cell_type": "code",
   "execution_count": 45,
   "metadata": {},
   "outputs": [],
   "source": [
    "import numpy as np"
   ]
  },
  {
   "cell_type": "code",
   "execution_count": 68,
   "metadata": {},
   "outputs": [],
   "source": [
    "tonalidad = 'F'\n",
    "minor = -6"
   ]
  },
  {
   "cell_type": "code",
   "execution_count": 81,
   "metadata": {},
   "outputs": [],
   "source": [
    "def transpose(tonalidad, modo='jonico'):\n",
    "    grados  = ['Ib','I','I#','IIb','II','II#','IIIb','III','III#','IVb','IV','IV#','Vb','V','V#','VIb','VI','VI#','VIIb','VII','VII#']\n",
    "    acordes = ['Cb','C','C#','Db' ,'D' ,'D#' ,'Eb'  ,'E'  ,'E#'  ,'Fb' ,'F' ,'F#' ,'Gb','G','G#','Ab' ,'A' ,'A#' ,'Bb'  ,'B'  ,'B#']\n",
    "    trans = acordes.index(tonalidad)\n",
    "    if modo == 'jonico':\n",
    "        transportado = np.roll(acordes,-trans+1)\n",
    "    elif modo =='eolico':\n",
    "        transportado = np.roll(acordes,-trans+1+6)\n",
    "\n",
    "    return transportado"
   ]
  },
  {
   "cell_type": "code",
   "execution_count": 83,
   "metadata": {},
   "outputs": [
    {
     "data": {
      "text/plain": [
       "array(['Fb', 'F', 'F#', 'Gb', 'G', 'G#', 'Ab', 'A', 'A#', 'Bb', 'B', 'B#',\n",
       "       'Cb', 'C', 'C#', 'Db', 'D', 'D#', 'Eb', 'E', 'E#'], dtype='<U2')"
      ]
     },
     "execution_count": 83,
     "metadata": {},
     "output_type": "execute_result"
    }
   ],
   "source": [
    "transpose(tonalidad)"
   ]
  },
  {
   "cell_type": "code",
   "execution_count": 53,
   "metadata": {},
   "outputs": [],
   "source": [
    "chords = ['VI:min','VI:min','VI:min','VI:min','VI:min','VI:min','VI:min','VI:min','VI:min','VI:min','VI:min','VI:min','VI:min','VI:min','VI:min','VI:min','V:maj','V:maj','V:maj','V:maj','V:maj','V:maj','V:maj','V:maj','II:maj']"
   ]
  },
  {
   "cell_type": "code",
   "execution_count": 66,
   "metadata": {},
   "outputs": [],
   "source": [
    "jonico    = ['I:maj','II:min' ,'III:min' ,'IV:maj' ,'V:maj' ,'VI:min' ,'VII:min' ]\n",
    "dorico    = ['I:min','II:min' ,'IIIb:maj','IV:maj' ,'V:min' ,'VIb:maj','VIIb:maj']\n",
    "frigio    = ['I:min','IIb:maj','IIIb:maj','IV:min' ,'V:min' ,'VIb:min','VIIb:min']\n",
    "lidio     = ['I:maj','II:maj' ,'III:min' ,'IV#:min','V:maj' ,'VI:min' ,'VII:min' ]\n",
    "mixolidio = ['I:maj','II:min' ,'III:min' ,'IV:maj' ,'V:min' ,'VI:min' ,'VIIb:maj']\n",
    "eolico    = ['I:min','II:min' ,'IIIb:maj','IV:min' ,'V:min' ,'VIb:maj','VIIb:maj']\n",
    "locrio    = ['I:min','IIb:maj','IIIb:min','IV:min' ,'Vb:maj','VIb:maj','VIIb:min']\n",
    "\n"
   ]
  },
  {
   "cell_type": "code",
   "execution_count": 67,
   "metadata": {},
   "outputs": [
    {
     "name": "stdout",
     "output_type": "stream",
     "text": [
      "VI:min es tonal\n",
      "VI:min es tonal\n",
      "VI:min es tonal\n",
      "VI:min es tonal\n",
      "VI:min es tonal\n",
      "VI:min es tonal\n",
      "VI:min es tonal\n",
      "VI:min es tonal\n",
      "VI:min es tonal\n",
      "VI:min es tonal\n",
      "VI:min es tonal\n",
      "VI:min es tonal\n",
      "VI:min es tonal\n",
      "VI:min es tonal\n",
      "VI:min es tonal\n",
      "VI:min es tonal\n",
      "V:maj es tonal\n",
      "V:maj es tonal\n",
      "V:maj es tonal\n",
      "V:maj es tonal\n",
      "V:maj es tonal\n",
      "V:maj es tonal\n",
      "V:maj es tonal\n",
      "V:maj es tonal\n",
      "II:maj no es tonal\n"
     ]
    }
   ],
   "source": [
    "for i in chords:\n",
    "    if i in jonico:\n",
    "        print(f'{i} es tonal')\n",
    "    else:\n",
    "        print(f'{i} no es tonal')"
   ]
  }
 ],
 "metadata": {
  "kernelspec": {
   "display_name": "Python 3.10.2 64-bit",
   "language": "python",
   "name": "python3"
  },
  "language_info": {
   "codemirror_mode": {
    "name": "ipython",
    "version": 3
   },
   "file_extension": ".py",
   "mimetype": "text/x-python",
   "name": "python",
   "nbconvert_exporter": "python",
   "pygments_lexer": "ipython3",
   "version": "3.10.2"
  },
  "orig_nbformat": 4,
  "vscode": {
   "interpreter": {
    "hash": "e36d3b1cbb4fb2a95efce5a4bc49ab2e84ae5beb3185e07de881d586ab467705"
   }
  }
 },
 "nbformat": 4,
 "nbformat_minor": 2
}
