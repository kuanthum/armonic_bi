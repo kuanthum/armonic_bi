{
 "cells": [
  {
   "cell_type": "code",
   "execution_count": 138,
   "metadata": {},
   "outputs": [],
   "source": [
    "import json"
   ]
  },
  {
   "cell_type": "code",
   "execution_count": 145,
   "metadata": {},
   "outputs": [],
   "source": [
    "modes = ['VIIb:maj','II:maj','III:maj', 'IIb:maj']"
   ]
  },
  {
   "cell_type": "code",
   "execution_count": 146,
   "metadata": {},
   "outputs": [],
   "source": [
    "modes_list = {\n",
    "        'jonic'      : ['I:maj','II:min' ,'III:min' ,'IV:maj' ,'V:maj' ,'VI:min' ,'VII:min' ],\n",
    "        'doric'      : ['I:min','II:min' ,'IIIb:maj','IV:maj' ,'V:min' ,'VIb:maj','VIIb:maj'],\n",
    "        'frigian'    : ['I:min','IIb:maj','IIIb:maj','IV:min' ,'V:min' ,'VIb:min','VIIb:min'],\n",
    "        'lidian'     : ['I:maj','II:maj' ,'III:min' ,'IV#:min','V:maj' ,'VI:min' ,'VII:min' ],\n",
    "        'mixolidian' : ['I:maj','II:min' ,'III:min' ,'IV:maj' ,'V:min' ,'VI:min' ,'VIIb:maj'],\n",
    "        'eolic'      : ['I:min','II:min' ,'IIIb:maj','IV:min' ,'V:min' ,'VIb:maj','VIIb:maj'],\n",
    "        'locrian'    : ['I:min','IIb:maj','IIIb:min','IV:min' ,'Vb:maj','VIb:maj','VIIb:min']\n",
    "    }\n",
    "\n",
    "dominants = {\n",
    "            'III:maj': 'V7/VI',\n",
    "}\n",
    "\n",
    "resources = {'mode': []}\n",
    "\n",
    "c = 0\n",
    "for mode in modes:\n",
    "    resources['mode'].append({mode:[]})\n",
    "    for mode_ in modes_list:\n",
    "        if mode in modes_list[mode_]:\n",
    "            #print(resources['mode'][0][mode])\n",
    "            resources['mode'][c][mode].append(mode_)\n",
    "            #print(f'{mode} Could be from {mode_} mode.')\n",
    "    \n",
    "\n",
    "    for mode_ in dominants:\n",
    "        if mode in dominants:\n",
    "            resources['mode'][c][mode].append(dominants[mode])\n",
    "            #print(f'{mode} Could be {dominants[mode]}')\n",
    "    c += 1"
   ]
  },
  {
   "cell_type": "code",
   "execution_count": 147,
   "metadata": {},
   "outputs": [
    {
     "name": "stdout",
     "output_type": "stream",
     "text": [
      "{\n",
      "    \"mode\": [\n",
      "        {\n",
      "            \"VIIb:maj\": [\n",
      "                \"doric\",\n",
      "                \"mixolidian\",\n",
      "                \"eolic\"\n",
      "            ]\n",
      "        },\n",
      "        {\n",
      "            \"II:maj\": [\n",
      "                \"lidian\"\n",
      "            ]\n",
      "        },\n",
      "        {\n",
      "            \"III:maj\": [\n",
      "                \"V7/VI\"\n",
      "            ]\n",
      "        },\n",
      "        {\n",
      "            \"IIb:maj\": [\n",
      "                \"frigian\",\n",
      "                \"locrian\"\n",
      "            ]\n",
      "        }\n",
      "    ]\n",
      "}\n"
     ]
    }
   ],
   "source": [
    "pretty = json.dumps(resources, indent=4)\n",
    "print(pretty)"
   ]
  },
  {
   "cell_type": "code",
   "execution_count": null,
   "metadata": {},
   "outputs": [],
   "source": []
  }
 ],
 "metadata": {
  "kernelspec": {
   "display_name": "Python 3.10.2 64-bit",
   "language": "python",
   "name": "python3"
  },
  "language_info": {
   "codemirror_mode": {
    "name": "ipython",
    "version": 3
   },
   "file_extension": ".py",
   "mimetype": "text/x-python",
   "name": "python",
   "nbconvert_exporter": "python",
   "pygments_lexer": "ipython3",
   "version": "3.10.2"
  },
  "orig_nbformat": 4,
  "vscode": {
   "interpreter": {
    "hash": "e36d3b1cbb4fb2a95efce5a4bc49ab2e84ae5beb3185e07de881d586ab467705"
   }
  }
 },
 "nbformat": 4,
 "nbformat_minor": 2
}
